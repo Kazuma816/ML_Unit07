{
  "nbformat": 4,
  "nbformat_minor": 0,
  "metadata": {
    "colab": {
      "provenance": []
    },
    "kernelspec": {
      "name": "python3",
      "display_name": "Python 3"
    },
    "language_info": {
      "name": "python"
    }
  },
  "cells": [
    {
      "cell_type": "code",
      "execution_count": 1,
      "metadata": {
        "id": "f24w3CFr6gHL"
      },
      "outputs": [],
      "source": [
        "# Import library\n",
        "\n",
        "import numpy as np"
      ]
    },
    {
      "cell_type": "code",
      "source": [
        "# Define the sigmoid function\n",
        "\n",
        "def sigmoid(sum_func):\n",
        "  return 1 / (1 + np.exp(-sum_func))"
      ],
      "metadata": {
        "id": "CDhxhBe57I5j"
      },
      "execution_count": 2,
      "outputs": []
    },
    {
      "cell_type": "code",
      "source": [
        "sigmoid(0)\n",
        "\n",
        "# 0.5"
      ],
      "metadata": {
        "colab": {
          "base_uri": "https://localhost:8080/"
        },
        "id": "17Wm1j8R7OZ2",
        "outputId": "8381ef6a-72df-43bd-98c5-7132305c4b2b"
      },
      "execution_count": 3,
      "outputs": [
        {
          "output_type": "execute_result",
          "data": {
            "text/plain": [
              "0.5"
            ]
          },
          "metadata": {},
          "execution_count": 3
        }
      ]
    },
    {
      "cell_type": "code",
      "source": [
        "np.exp(2)\n",
        "\n",
        "# 7.38905609893065"
      ],
      "metadata": {
        "colab": {
          "base_uri": "https://localhost:8080/"
        },
        "id": "bVeVhEZn7P_q",
        "outputId": "55f6949f-d3b6-44b3-b40e-0c15d064e693"
      },
      "execution_count": 4,
      "outputs": [
        {
          "output_type": "execute_result",
          "data": {
            "text/plain": [
              "7.38905609893065"
            ]
          },
          "metadata": {},
          "execution_count": 4
        }
      ]
    },
    {
      "cell_type": "code",
      "source": [
        "np.exp(1)\n",
        "\n",
        "# 2.718281828459045"
      ],
      "metadata": {
        "colab": {
          "base_uri": "https://localhost:8080/"
        },
        "id": "G1b9VU_t7VTx",
        "outputId": "e17076e5-349f-401f-e74d-5e62e6c90e9d"
      },
      "execution_count": 6,
      "outputs": [
        {
          "output_type": "execute_result",
          "data": {
            "text/plain": [
              "2.718281828459045"
            ]
          },
          "metadata": {},
          "execution_count": 6
        }
      ]
    },
    {
      "cell_type": "code",
      "source": [
        "sigmoid(40)\n",
        "\n",
        "# 1.0"
      ],
      "metadata": {
        "colab": {
          "base_uri": "https://localhost:8080/"
        },
        "id": "yA4EekQ17ZLs",
        "outputId": "e18cc25f-59e8-4085-92f8-79c6d0145b4c"
      },
      "execution_count": 7,
      "outputs": [
        {
          "output_type": "execute_result",
          "data": {
            "text/plain": [
              "1.0"
            ]
          },
          "metadata": {},
          "execution_count": 7
        }
      ]
    },
    {
      "cell_type": "code",
      "source": [
        "sigmoid(-20.5)\n",
        "\n",
        "# 1.2501528648238605e-09"
      ],
      "metadata": {
        "colab": {
          "base_uri": "https://localhost:8080/"
        },
        "id": "cQjhPwU47ciR",
        "outputId": "1f9ef212-dad2-4bb9-b33e-9c847c6ec4ac"
      },
      "execution_count": 9,
      "outputs": [
        {
          "output_type": "execute_result",
          "data": {
            "text/plain": [
              "1.2501528648238605e-09"
            ]
          },
          "metadata": {},
          "execution_count": 9
        }
      ]
    },
    {
      "cell_type": "code",
      "source": [
        "# Define \"Inputs, outputs and weights\" as Numpy arrays\n",
        "\n",
        "# Inputs\n",
        "\n",
        "inputs = np.array([[0,0],\n",
        "                   [0,1],\n",
        "                   [1,0],\n",
        "                   [1,1]])"
      ],
      "metadata": {
        "id": "B36i5pve7hSs"
      },
      "execution_count": 10,
      "outputs": []
    },
    {
      "cell_type": "code",
      "source": [
        "inputs.shape\n",
        "\n",
        "# (4, 2)"
      ],
      "metadata": {
        "colab": {
          "base_uri": "https://localhost:8080/"
        },
        "id": "_eCZ05PV7miY",
        "outputId": "5e92e27b-d5f2-4300-bfb9-f514b57448c9"
      },
      "execution_count": 12,
      "outputs": [
        {
          "output_type": "execute_result",
          "data": {
            "text/plain": [
              "(4, 2)"
            ]
          },
          "metadata": {},
          "execution_count": 12
        }
      ]
    },
    {
      "cell_type": "code",
      "source": [
        "# Outputs\n",
        "\n",
        "outputs = np.array([[0],\n",
        "                    [1],\n",
        "                    [1],\n",
        "                    [0]])"
      ],
      "metadata": {
        "id": "4eiBePnW7p0z"
      },
      "execution_count": 13,
      "outputs": []
    },
    {
      "cell_type": "code",
      "source": [
        "outputs.shape\n",
        "\n",
        "# (4, 1)"
      ],
      "metadata": {
        "colab": {
          "base_uri": "https://localhost:8080/"
        },
        "id": "f-ZUhyZi7u5h",
        "outputId": "7616de47-ea64-4f66-9a6b-3e6329f82923"
      },
      "execution_count": 15,
      "outputs": [
        {
          "output_type": "execute_result",
          "data": {
            "text/plain": [
              "(4, 1)"
            ]
          },
          "metadata": {},
          "execution_count": 15
        }
      ]
    },
    {
      "cell_type": "code",
      "source": [
        "# Weights\n",
        "\n",
        "# First row holds the weights for x1, 2nd row contains the weights for x2\n",
        "\n",
        "weights_0 = np.array([[-0.424, -0.740, -0.961],\n",
        "                     [0.358, -0.577, -0.469]])\n",
        "weights_0.shape\n",
        "\n",
        "# (2, 3)"
      ],
      "metadata": {
        "colab": {
          "base_uri": "https://localhost:8080/"
        },
        "id": "5xY1WR-h7_FP",
        "outputId": "94bfaad1-1755-4cd1-ecf9-76651c57ea48"
      },
      "execution_count": 16,
      "outputs": [
        {
          "output_type": "execute_result",
          "data": {
            "text/plain": [
              "(2, 3)"
            ]
          },
          "metadata": {},
          "execution_count": 16
        }
      ]
    },
    {
      "cell_type": "code",
      "source": [
        "weights_1 = np.array([[-0.017],\n",
        "                     [-0.893],\n",
        "                     [0.148]])\n",
        "weights_1.shape\n",
        "\n",
        "# (3, 1)"
      ],
      "metadata": {
        "colab": {
          "base_uri": "https://localhost:8080/"
        },
        "id": "clHTx1q48EUe",
        "outputId": "6626303a-0ad8-4ddc-e610-2564c33bad18"
      },
      "execution_count": 17,
      "outputs": [
        {
          "output_type": "execute_result",
          "data": {
            "text/plain": [
              "(3, 1)"
            ]
          },
          "metadata": {},
          "execution_count": 17
        }
      ]
    },
    {
      "cell_type": "code",
      "source": [
        "# Epochs & Learning Rate\n",
        "\n",
        "epochs = 100\n",
        "learning_rate = 0.3"
      ],
      "metadata": {
        "id": "S_b0t4fp8HLi"
      },
      "execution_count": 18,
      "outputs": []
    },
    {
      "cell_type": "code",
      "source": [
        "input_layer = inputs\n",
        "input_layer"
      ],
      "metadata": {
        "colab": {
          "base_uri": "https://localhost:8080/"
        },
        "id": "dffqgeYD8OGg",
        "outputId": "8528ae42-10f8-498c-a2a6-6a235fc6b57b"
      },
      "execution_count": 19,
      "outputs": [
        {
          "output_type": "execute_result",
          "data": {
            "text/plain": [
              "array([[0, 0],\n",
              "       [0, 1],\n",
              "       [1, 0],\n",
              "       [1, 1]])"
            ]
          },
          "metadata": {},
          "execution_count": 19
        }
      ]
    },
    {
      "cell_type": "code",
      "source": [
        "# \"sum_synapse_0\" This holds the sum function total of weights for the hidden layer\n",
        "# For the Output: Each row holds the sum_func for each input data  [0,0,0 -> data 0,0],[0.358, -0.577, -0.469 --> 0,1]\n",
        "# The dot product does the matrix multiplication and also the sum\n",
        "\n",
        "sum_synapse_0 = np.dot(input_layer, weights_0)\n",
        "sum_synapse_0"
      ],
      "metadata": {
        "colab": {
          "base_uri": "https://localhost:8080/"
        },
        "id": "dHP3bKDV8QCu",
        "outputId": "c59afb5e-9848-4606-8c9c-f0991bb75287"
      },
      "execution_count": 20,
      "outputs": [
        {
          "output_type": "execute_result",
          "data": {
            "text/plain": [
              "array([[ 0.   ,  0.   ,  0.   ],\n",
              "       [ 0.358, -0.577, -0.469],\n",
              "       [-0.424, -0.74 , -0.961],\n",
              "       [-0.066, -1.317, -1.43 ]])"
            ]
          },
          "metadata": {},
          "execution_count": 20
        }
      ]
    },
    {
      "cell_type": "code",
      "source": [
        "# Computing the Sigmoid function for the Hidden layer\n",
        "\n",
        "hidden_layer = sigmoid(sum_synapse_0)\n",
        "hidden_layer"
      ],
      "metadata": {
        "colab": {
          "base_uri": "https://localhost:8080/"
        },
        "id": "NJt6gry-8Tg3",
        "outputId": "aa172f40-9367-4f65-dfe1-541de67b200e"
      },
      "execution_count": 21,
      "outputs": [
        {
          "output_type": "execute_result",
          "data": {
            "text/plain": [
              "array([[0.5       , 0.5       , 0.5       ],\n",
              "       [0.5885562 , 0.35962319, 0.38485296],\n",
              "       [0.39555998, 0.32300414, 0.27667802],\n",
              "       [0.48350599, 0.21131785, 0.19309868]])"
            ]
          },
          "metadata": {},
          "execution_count": 21
        }
      ]
    },
    {
      "cell_type": "code",
      "source": [
        "weights_1"
      ],
      "metadata": {
        "colab": {
          "base_uri": "https://localhost:8080/"
        },
        "id": "qzdm2H0Q8WwZ",
        "outputId": "d151f567-f6e0-45ad-9a4c-710a8983efb6"
      },
      "execution_count": 22,
      "outputs": [
        {
          "output_type": "execute_result",
          "data": {
            "text/plain": [
              "array([[-0.017],\n",
              "       [-0.893],\n",
              "       [ 0.148]])"
            ]
          },
          "metadata": {},
          "execution_count": 22
        }
      ]
    },
    {
      "cell_type": "code",
      "source": [
        "# \"sum_synapse_1\" This holds the sum function total of weights for the output layer\n",
        "# For the Output: Each row holds the sum_func for each input data\n",
        "\n",
        "sum_synapse_1 = np.dot(hidden_layer, weights_1)\n",
        "sum_synapse_1"
      ],
      "metadata": {
        "colab": {
          "base_uri": "https://localhost:8080/"
        },
        "id": "LUQIH__y8Yb9",
        "outputId": "7214f043-29dc-4281-d5da-1fbfc56ff8a5"
      },
      "execution_count": 23,
      "outputs": [
        {
          "output_type": "execute_result",
          "data": {
            "text/plain": [
              "array([[-0.381     ],\n",
              "       [-0.27419072],\n",
              "       [-0.25421887],\n",
              "       [-0.16834784]])"
            ]
          },
          "metadata": {},
          "execution_count": 23
        }
      ]
    },
    {
      "cell_type": "code",
      "source": [
        "output_layer = sigmoid(sum_synapse_1)\n",
        "output_layer"
      ],
      "metadata": {
        "colab": {
          "base_uri": "https://localhost:8080/"
        },
        "id": "tZeHgmqi8aOi",
        "outputId": "9b71411e-f429-4c84-e2c9-1a5c50047612"
      },
      "execution_count": 24,
      "outputs": [
        {
          "output_type": "execute_result",
          "data": {
            "text/plain": [
              "array([[0.40588573],\n",
              "       [0.43187857],\n",
              "       [0.43678536],\n",
              "       [0.45801216]])"
            ]
          },
          "metadata": {},
          "execution_count": 24
        }
      ]
    },
    {
      "cell_type": "code",
      "source": [
        "error_output_layer = outputs - output_layer\n",
        "error_output_layer"
      ],
      "metadata": {
        "colab": {
          "base_uri": "https://localhost:8080/"
        },
        "id": "hKxi8UrW8dTa",
        "outputId": "d9427494-ded2-49b7-ce83-a4f0fbf81264"
      },
      "execution_count": 25,
      "outputs": [
        {
          "output_type": "execute_result",
          "data": {
            "text/plain": [
              "array([[-0.40588573],\n",
              "       [ 0.56812143],\n",
              "       [ 0.56321464],\n",
              "       [-0.45801216]])"
            ]
          },
          "metadata": {},
          "execution_count": 25
        }
      ]
    },
    {
      "cell_type": "code",
      "source": [
        "average_error = np.mean(abs(error_output_layer))\n",
        "average_error"
      ],
      "metadata": {
        "colab": {
          "base_uri": "https://localhost:8080/"
        },
        "id": "6KdmanzG8epF",
        "outputId": "19ce2231-cb0f-4105-977a-ded9ae2cac38"
      },
      "execution_count": 26,
      "outputs": [
        {
          "output_type": "execute_result",
          "data": {
            "text/plain": [
              "0.49880848923713045"
            ]
          },
          "metadata": {},
          "execution_count": 26
        }
      ]
    },
    {
      "cell_type": "code",
      "source": [
        "def sigmoid_derivative(sigmoid):\n",
        "    return sigmoid * (1 - sigmoid)"
      ],
      "metadata": {
        "id": "T2Br66298g3B"
      },
      "execution_count": 27,
      "outputs": []
    },
    {
      "cell_type": "code",
      "source": [
        "# output_layer holds the results of our application of the sigmoid, computed above\n",
        "\n",
        "output_layer"
      ],
      "metadata": {
        "colab": {
          "base_uri": "https://localhost:8080/"
        },
        "id": "LN8xAlDk8lPw",
        "outputId": "85e2915b-6b68-4d3e-c2a9-da94dc559aaf"
      },
      "execution_count": 28,
      "outputs": [
        {
          "output_type": "execute_result",
          "data": {
            "text/plain": [
              "array([[0.40588573],\n",
              "       [0.43187857],\n",
              "       [0.43678536],\n",
              "       [0.45801216]])"
            ]
          },
          "metadata": {},
          "execution_count": 28
        }
      ]
    },
    {
      "cell_type": "code",
      "source": [
        "# derivative_output is our Derivative of the activation function (sigmoid) which we have on the slide\n",
        "# each row is for each instance of our input dataset\n",
        "\n",
        "derivative_output = sigmoid_derivative(output_layer)\n",
        "derivative_output"
      ],
      "metadata": {
        "colab": {
          "base_uri": "https://localhost:8080/"
        },
        "id": "DSdiFyj-8m4r",
        "outputId": "e065e86f-4d9e-4436-cd90-f3bc217e0132"
      },
      "execution_count": 29,
      "outputs": [
        {
          "output_type": "execute_result",
          "data": {
            "text/plain": [
              "array([[0.2411425 ],\n",
              "       [0.24535947],\n",
              "       [0.24600391],\n",
              "       [0.24823702]])"
            ]
          },
          "metadata": {},
          "execution_count": 29
        }
      ]
    },
    {
      "cell_type": "code",
      "source": [
        "error_output_layer"
      ],
      "metadata": {
        "colab": {
          "base_uri": "https://localhost:8080/"
        },
        "id": "BVLbr01c8oOH",
        "outputId": "45cbad50-2189-4443-8e0f-cf452e082db2"
      },
      "execution_count": 30,
      "outputs": [
        {
          "output_type": "execute_result",
          "data": {
            "text/plain": [
              "array([[-0.40588573],\n",
              "       [ 0.56812143],\n",
              "       [ 0.56321464],\n",
              "       [-0.45801216]])"
            ]
          },
          "metadata": {},
          "execution_count": 30
        }
      ]
    },
    {
      "cell_type": "code",
      "source": [
        "# Delta output\n",
        "# each row is for each instance of our input dataset\n",
        "\n",
        "delta_output = error_output_layer * derivative_output\n",
        "delta_output"
      ],
      "metadata": {
        "colab": {
          "base_uri": "https://localhost:8080/"
        },
        "id": "pgCoOVTL8pt9",
        "outputId": "e7b0ac99-e70b-4e9e-e0b5-6d6a57a14b7d"
      },
      "execution_count": 31,
      "outputs": [
        {
          "output_type": "execute_result",
          "data": {
            "text/plain": [
              "array([[-0.0978763 ],\n",
              "       [ 0.13939397],\n",
              "       [ 0.138553  ],\n",
              "       [-0.11369557]])"
            ]
          },
          "metadata": {},
          "execution_count": 31
        }
      ]
    },
    {
      "cell_type": "code",
      "source": [
        "delta_output"
      ],
      "metadata": {
        "colab": {
          "base_uri": "https://localhost:8080/"
        },
        "id": "wMQ3UfPX8rb2",
        "outputId": "b49c637a-72a9-49f9-9837-9258f59fbd47"
      },
      "execution_count": 32,
      "outputs": [
        {
          "output_type": "execute_result",
          "data": {
            "text/plain": [
              "array([[-0.0978763 ],\n",
              "       [ 0.13939397],\n",
              "       [ 0.138553  ],\n",
              "       [-0.11369557]])"
            ]
          },
          "metadata": {},
          "execution_count": 32
        }
      ]
    },
    {
      "cell_type": "code",
      "source": [
        "weights_1"
      ],
      "metadata": {
        "colab": {
          "base_uri": "https://localhost:8080/"
        },
        "id": "FIoJW6ie8uPS",
        "outputId": "156bd27a-c9ab-46c0-c8af-c8183b1c6d01"
      },
      "execution_count": 33,
      "outputs": [
        {
          "output_type": "execute_result",
          "data": {
            "text/plain": [
              "array([[-0.017],\n",
              "       [-0.893],\n",
              "       [ 0.148]])"
            ]
          },
          "metadata": {},
          "execution_count": 33
        }
      ]
    },
    {
      "cell_type": "code",
      "source": [
        "delta_output_x_weight = delta_output.dot(weights_1)"
      ],
      "metadata": {
        "colab": {
          "base_uri": "https://localhost:8080/",
          "height": 170
        },
        "id": "nIp8LRch8vvn",
        "outputId": "b19bd3a2-3a68-49ac-8ebf-0fb100b3386c"
      },
      "execution_count": 34,
      "outputs": [
        {
          "output_type": "error",
          "ename": "ValueError",
          "evalue": "ignored",
          "traceback": [
            "\u001b[0;31m---------------------------------------------------------------------------\u001b[0m",
            "\u001b[0;31mValueError\u001b[0m                                Traceback (most recent call last)",
            "\u001b[0;32m<ipython-input-34-50b740e5a31c>\u001b[0m in \u001b[0;36m<cell line: 1>\u001b[0;34m()\u001b[0m\n\u001b[0;32m----> 1\u001b[0;31m \u001b[0mdelta_output_x_weight\u001b[0m \u001b[0;34m=\u001b[0m \u001b[0mdelta_output\u001b[0m\u001b[0;34m.\u001b[0m\u001b[0mdot\u001b[0m\u001b[0;34m(\u001b[0m\u001b[0mweights_1\u001b[0m\u001b[0;34m)\u001b[0m\u001b[0;34m\u001b[0m\u001b[0;34m\u001b[0m\u001b[0m\n\u001b[0m",
            "\u001b[0;31mValueError\u001b[0m: shapes (4,1) and (3,1) not aligned: 1 (dim 1) != 3 (dim 0)"
          ]
        }
      ]
    },
    {
      "cell_type": "code",
      "source": [
        "weights_1.shape"
      ],
      "metadata": {
        "colab": {
          "base_uri": "https://localhost:8080/"
        },
        "id": "4DbfmQYQ83o1",
        "outputId": "2dd5c312-be15-4d00-b0ae-c77ad00fc042"
      },
      "execution_count": 35,
      "outputs": [
        {
          "output_type": "execute_result",
          "data": {
            "text/plain": [
              "(3, 1)"
            ]
          },
          "metadata": {},
          "execution_count": 35
        }
      ]
    },
    {
      "cell_type": "code",
      "source": [
        "weights_1T = weights_1.T\n",
        "weights_1T"
      ],
      "metadata": {
        "colab": {
          "base_uri": "https://localhost:8080/"
        },
        "id": "hUdvY8dsTqH7",
        "outputId": "731f30b1-1c19-4b54-baa4-f40c6e954b98"
      },
      "execution_count": 36,
      "outputs": [
        {
          "output_type": "execute_result",
          "data": {
            "text/plain": [
              "array([[-0.017, -0.893,  0.148]])"
            ]
          },
          "metadata": {},
          "execution_count": 36
        }
      ]
    },
    {
      "cell_type": "code",
      "source": [
        "weights_1T.shape\n",
        "\n",
        "# (1, 3)"
      ],
      "metadata": {
        "colab": {
          "base_uri": "https://localhost:8080/"
        },
        "id": "2i-QIuu3TsMe",
        "outputId": "e33658ef-20ad-432d-b663-289add8bb956"
      },
      "execution_count": 37,
      "outputs": [
        {
          "output_type": "execute_result",
          "data": {
            "text/plain": [
              "(1, 3)"
            ]
          },
          "metadata": {},
          "execution_count": 37
        }
      ]
    },
    {
      "cell_type": "code",
      "source": [
        "delta_output_x_weight = delta_output.dot(weights_1T)\n",
        "delta_output_x_weight"
      ],
      "metadata": {
        "colab": {
          "base_uri": "https://localhost:8080/"
        },
        "id": "z0JkVhVRTwEs",
        "outputId": "ae1d20af-499b-4602-d7c2-c314b74b2f8b"
      },
      "execution_count": 38,
      "outputs": [
        {
          "output_type": "execute_result",
          "data": {
            "text/plain": [
              "array([[ 0.0016639 ,  0.08740354, -0.01448569],\n",
              "       [-0.0023697 , -0.12447882,  0.02063031],\n",
              "       [-0.0023554 , -0.12372783,  0.02050584],\n",
              "       [ 0.00193282,  0.10153015, -0.01682694]])"
            ]
          },
          "metadata": {},
          "execution_count": 38
        }
      ]
    },
    {
      "cell_type": "code",
      "source": [
        "hidden_layer"
      ],
      "metadata": {
        "colab": {
          "base_uri": "https://localhost:8080/"
        },
        "id": "BU6GhXUzTzGK",
        "outputId": "b5893b52-a3af-4b2c-8e41-6624868b4108"
      },
      "execution_count": 39,
      "outputs": [
        {
          "output_type": "execute_result",
          "data": {
            "text/plain": [
              "array([[0.5       , 0.5       , 0.5       ],\n",
              "       [0.5885562 , 0.35962319, 0.38485296],\n",
              "       [0.39555998, 0.32300414, 0.27667802],\n",
              "       [0.48350599, 0.21131785, 0.19309868]])"
            ]
          },
          "metadata": {},
          "execution_count": 39
        }
      ]
    },
    {
      "cell_type": "code",
      "source": [
        "#  Each row in the output of delta_hidden_layer is for the data input values\n",
        "\n",
        "delta_hidden_layer = delta_output_x_weight * sigmoid_derivative(hidden_layer)\n",
        "delta_hidden_layer"
      ],
      "metadata": {
        "colab": {
          "base_uri": "https://localhost:8080/"
        },
        "id": "QRtcEZfnT0w8",
        "outputId": "2b5aa9c0-6d9e-4c96-dbab-c95b3549e835"
      },
      "execution_count": 40,
      "outputs": [
        {
          "output_type": "execute_result",
          "data": {
            "text/plain": [
              "array([[ 0.00041597,  0.02185088, -0.00362142],\n",
              "       [-0.00057384, -0.02866677,  0.00488404],\n",
              "       [-0.00056316, -0.02705587,  0.00410378],\n",
              "       [ 0.00048268,  0.01692128, -0.00262183]])"
            ]
          },
          "metadata": {},
          "execution_count": 40
        }
      ]
    },
    {
      "cell_type": "code",
      "source": [
        "hidden_layerT = hidden_layer.T\n",
        "hidden_layerT"
      ],
      "metadata": {
        "colab": {
          "base_uri": "https://localhost:8080/"
        },
        "id": "e8PyR2-gT400",
        "outputId": "c8f5e0bf-71bf-4473-9719-b4c83fdaca10"
      },
      "execution_count": 41,
      "outputs": [
        {
          "output_type": "execute_result",
          "data": {
            "text/plain": [
              "array([[0.5       , 0.5885562 , 0.39555998, 0.48350599],\n",
              "       [0.5       , 0.35962319, 0.32300414, 0.21131785],\n",
              "       [0.5       , 0.38485296, 0.27667802, 0.19309868]])"
            ]
          },
          "metadata": {},
          "execution_count": 41
        }
      ]
    },
    {
      "cell_type": "code",
      "source": [
        "input_x_delta1 = hidden_layerT.dot(delta_output)\n",
        "input_x_delta1"
      ],
      "metadata": {
        "colab": {
          "base_uri": "https://localhost:8080/"
        },
        "id": "cSkqWz0yT6S1",
        "outputId": "f361fb52-dc3c-468f-8cd7-b9c1a3f1b1d9"
      },
      "execution_count": 42,
      "outputs": [
        {
          "output_type": "execute_result",
          "data": {
            "text/plain": [
              "array([[0.03293657],\n",
              "       [0.02191844],\n",
              "       [0.02108814]])"
            ]
          },
          "metadata": {},
          "execution_count": 42
        }
      ]
    },
    {
      "cell_type": "code",
      "source": [
        "# update the \"weights_1\"\n",
        "\n",
        "weights_1 = weights_1 + (input_x_delta1 * learning_rate)\n",
        "weights_1"
      ],
      "metadata": {
        "colab": {
          "base_uri": "https://localhost:8080/"
        },
        "id": "pJRgPEj0T9CX",
        "outputId": "ee2365a9-346e-447c-8239-e7ca4a60bc38"
      },
      "execution_count": 43,
      "outputs": [
        {
          "output_type": "execute_result",
          "data": {
            "text/plain": [
              "array([[-0.00711903],\n",
              "       [-0.88642447],\n",
              "       [ 0.15432644]])"
            ]
          },
          "metadata": {},
          "execution_count": 43
        }
      ]
    },
    {
      "cell_type": "code",
      "source": [
        "# First column is X1, and 2nd column is X2 (our input values )\n",
        "\n",
        "input_layer"
      ],
      "metadata": {
        "colab": {
          "base_uri": "https://localhost:8080/"
        },
        "id": "7MSXOSdlUBh5",
        "outputId": "f4c51250-37e1-412f-b7ed-120e1b0b323b"
      },
      "execution_count": 44,
      "outputs": [
        {
          "output_type": "execute_result",
          "data": {
            "text/plain": [
              "array([[0, 0],\n",
              "       [0, 1],\n",
              "       [1, 0],\n",
              "       [1, 1]])"
            ]
          },
          "metadata": {},
          "execution_count": 44
        }
      ]
    },
    {
      "cell_type": "code",
      "source": [
        "delta_hidden_layer"
      ],
      "metadata": {
        "colab": {
          "base_uri": "https://localhost:8080/"
        },
        "id": "2iynhvWnUbuP",
        "outputId": "51f45e11-1aab-43f4-8dae-293ab73a4fe3"
      },
      "execution_count": 45,
      "outputs": [
        {
          "output_type": "execute_result",
          "data": {
            "text/plain": [
              "array([[ 0.00041597,  0.02185088, -0.00362142],\n",
              "       [-0.00057384, -0.02866677,  0.00488404],\n",
              "       [-0.00056316, -0.02705587,  0.00410378],\n",
              "       [ 0.00048268,  0.01692128, -0.00262183]])"
            ]
          },
          "metadata": {},
          "execution_count": 45
        }
      ]
    },
    {
      "cell_type": "code",
      "source": [
        "# we need to transpose the values just as we did before\n",
        "\n",
        "input_layerT = input_layer.T\n",
        "input_layerT"
      ],
      "metadata": {
        "colab": {
          "base_uri": "https://localhost:8080/"
        },
        "id": "KWswZYxbUeS0",
        "outputId": "aef7baa3-c34f-4d19-99e2-67cdca143966"
      },
      "execution_count": 46,
      "outputs": [
        {
          "output_type": "execute_result",
          "data": {
            "text/plain": [
              "array([[0, 0, 1, 1],\n",
              "       [0, 1, 0, 1]])"
            ]
          },
          "metadata": {},
          "execution_count": 46
        }
      ]
    },
    {
      "cell_type": "code",
      "source": [
        "input_x_delta0 = input_layerT.dot(delta_hidden_layer)\n",
        "input_x_delta0"
      ],
      "metadata": {
        "colab": {
          "base_uri": "https://localhost:8080/"
        },
        "id": "MA_9TvSgUfu7",
        "outputId": "64870898-317a-40aa-a631-26756451344d"
      },
      "execution_count": 47,
      "outputs": [
        {
          "output_type": "execute_result",
          "data": {
            "text/plain": [
              "array([[-8.04778516e-05, -1.01345901e-02,  1.48194623e-03],\n",
              "       [-9.11603819e-05, -1.17454886e-02,  2.26221011e-03]])"
            ]
          },
          "metadata": {},
          "execution_count": 47
        }
      ]
    },
    {
      "cell_type": "code",
      "source": [
        "weights_0 = weights_0 + (input_x_delta0 * learning_rate)\n",
        "weights_0"
      ],
      "metadata": {
        "colab": {
          "base_uri": "https://localhost:8080/"
        },
        "id": "sVzSJAhmUhbR",
        "outputId": "47fe0782-1b43-4cd3-e85a-4641e3ae5541"
      },
      "execution_count": 48,
      "outputs": [
        {
          "output_type": "execute_result",
          "data": {
            "text/plain": [
              "array([[-0.42402414, -0.74304038, -0.96055542],\n",
              "       [ 0.35797265, -0.58052365, -0.46832134]])"
            ]
          },
          "metadata": {},
          "execution_count": 48
        }
      ]
    },
    {
      "cell_type": "code",
      "source": [
        "# Complete Artificial Neural Network\n",
        "\n",
        "#Importing Numpy\n",
        "import numpy as np\n",
        "\n",
        "# This is the sigmoid Function\n",
        "def sigmoid(sum):\n",
        "  return 1 / (1 + np.exp(-sum))\n",
        "\n",
        "#This is the sigmoid derivative as used before\n",
        "def sigmoid_derivative(sigmoid):\n",
        "  return sigmoid * (1 - sigmoid)\n",
        "\n",
        "# Our input values\n",
        "inputs = np.array([[0,0],\n",
        "                   [0,1],\n",
        "                   [1,0],\n",
        "                   [1,1]])\n",
        "#Our output values\n",
        "outputs = np.array([[0],\n",
        "                    [1],\n",
        "                    [1],\n",
        "                    [0]])"
      ],
      "metadata": {
        "id": "gqTAFnOxUkFp"
      },
      "execution_count": 49,
      "outputs": []
    },
    {
      "cell_type": "code",
      "source": [
        "# Initializing our weights with random values\n",
        "\n",
        "weights_0 = 2 * np.random.random((2, 3)) - 1\n",
        "weights_1 = 2 * np.random.random((3, 1)) - 1"
      ],
      "metadata": {
        "id": "Firo4VQNUor3"
      },
      "execution_count": 50,
      "outputs": []
    },
    {
      "cell_type": "code",
      "source": [
        "epochs = 400000\n",
        "learning_rate = 0.6\n",
        "error = []\n",
        "\n",
        "for epoch in range(epochs):\n",
        "  input_layer = inputs\n",
        "  sum_synapse0 = np.dot(input_layer, weights_0)\n",
        "  hidden_layer = sigmoid(sum_synapse0)\n",
        "\n",
        "  sum_synapse1 = np.dot(hidden_layer, weights_1)\n",
        "  output_layer = sigmoid(sum_synapse1)\n",
        "\n",
        "  error_output_layer = outputs - output_layer\n",
        "  average = np.mean(abs(error_output_layer))\n",
        "    #print after every specified range of the value\n",
        "  if epoch % 100000 == 0:\n",
        "    print('Epoch: ' + str(epoch + 1) + ' Error: ' + str(average))\n",
        "    error.append(average)\n",
        "\n",
        "  derivative_output = sigmoid_derivative(output_layer)\n",
        "  delta_output = error_output_layer * derivative_output\n",
        "\n",
        "  weights1T = weights_1.T\n",
        "  delta_output_weight = delta_output.dot(weights1T)\n",
        "  delta_hidden_layer = delta_output_weight * sigmoid_derivative(hidden_layer)\n",
        "\n",
        "  hidden_layerT = hidden_layer.T\n",
        "  input_x_delta1 = hidden_layerT.dot(delta_output)\n",
        "  weights_1 = weights_1 + (input_x_delta1 * learning_rate)\n",
        "\n",
        "  input_layerT = input_layer.T\n",
        "  input_x_delta0 = input_layerT.dot(delta_hidden_layer)\n",
        "  weights_0 = weights_0 + (input_x_delta0 * learning_rate)"
      ],
      "metadata": {
        "colab": {
          "base_uri": "https://localhost:8080/"
        },
        "id": "GszdrSaEUtwW",
        "outputId": "14258780-f1cb-4631-89df-1727b2b10ab2"
      },
      "execution_count": 52,
      "outputs": [
        {
          "output_type": "stream",
          "name": "stdout",
          "text": [
            "Epoch: 1 Error: 0.5011231956276783\n",
            "Epoch: 100001 Error: 0.011401392846567309\n",
            "Epoch: 200001 Error: 0.00799573686650918\n",
            "Epoch: 300001 Error: 0.006506251631291854\n"
          ]
        }
      ]
    },
    {
      "cell_type": "code",
      "source": [
        "#1 million epochs with a learning rate of 0.3\n",
        "1 - 0.009670967930930745\n",
        "\n",
        "# 0.9903290320690693"
      ],
      "metadata": {
        "colab": {
          "base_uri": "https://localhost:8080/"
        },
        "id": "lRyWVftDWeMf",
        "outputId": "97a43e02-157f-4754-b702-b6a2112d09ef"
      },
      "execution_count": 54,
      "outputs": [
        {
          "output_type": "execute_result",
          "data": {
            "text/plain": [
              "0.9903290320690693"
            ]
          },
          "metadata": {},
          "execution_count": 54
        }
      ]
    },
    {
      "cell_type": "code",
      "source": [
        "#after 400,000 epochs, with a learning rate of 0.6\n",
        "1- 0.008192022809586367\n",
        "\n",
        "# 0.9918079771904136"
      ],
      "metadata": {
        "colab": {
          "base_uri": "https://localhost:8080/"
        },
        "id": "tqhiJWkEWi3L",
        "outputId": "26420861-c16d-42d6-ffb4-902519d3ad4e"
      },
      "execution_count": 55,
      "outputs": [
        {
          "output_type": "execute_result",
          "data": {
            "text/plain": [
              "0.9918079771904136"
            ]
          },
          "metadata": {},
          "execution_count": 55
        }
      ]
    },
    {
      "cell_type": "code",
      "source": [
        "# Visualize thie result\n",
        "\n",
        "import matplotlib.pyplot as plt"
      ],
      "metadata": {
        "id": "M9AT0MD_Wl94"
      },
      "execution_count": 57,
      "outputs": []
    },
    {
      "cell_type": "code",
      "source": [
        "plt.xlabel('Number of Epochs')\n",
        "plt.ylabel('Error')\n",
        "plt.title('Plot showing results from Neural Network')\n",
        "plt.plot(error)\n",
        "plt.show()"
      ],
      "metadata": {
        "colab": {
          "base_uri": "https://localhost:8080/",
          "height": 472
        },
        "id": "Bw4bumJQXyzk",
        "outputId": "a8d483dd-2a0c-4620-a969-ca8970b9793a"
      },
      "execution_count": 58,
      "outputs": [
        {
          "output_type": "display_data",
          "data": {
            "text/plain": [
              "<Figure size 640x480 with 1 Axes>"
            ],
            "image/png": "[encoded data removed]"
          },
          "metadata": {}
        }
      ]
    },
    {
      "cell_type": "markdown",
      "source": [
        "Plot showing results from Neural Network\n",
        "![Plot showing results from Neural Network.png](data:image/png;base64,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)"
      ],
      "metadata": {
        "id": "VLj430jjX-vn"
      }
    },
    {
      "cell_type": "code",
      "source": [
        "plt.xlabel('Number of Epochs')\n",
        "plt.ylabel('Error')\n",
        "plt.title('Plot showing results from Neural Network')\n",
        "plt.plot(error)\n",
        "plt.show()"
      ],
      "metadata": {
        "colab": {
          "base_uri": "https://localhost:8080/",
          "height": 472
        },
        "id": "J27nyWXxX1rp",
        "outputId": "eedf7001-30ab-4b99-e78a-06f936192cd2"
      },
      "execution_count": 59,
      "outputs": [
        {
          "output_type": "display_data",
          "data": {
            "text/plain": [
              "<Figure size 640x480 with 1 Axes>"
            ],
            "image/png": "[encoded data removed]"
          },
          "metadata": {}
        }
      ]
    },
    {
      "cell_type": "markdown",
      "source": [
        "Plot showing results from Neural Network2\n",
        "\n",
        "![Plot showing results from Neural Network2.png](data:image/png;base64,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)"
      ],
      "metadata": {
        "id": "9EOhMjudYEis"
      }
    },
    {
      "cell_type": "code",
      "source": [],
      "metadata": {
        "id": "W386_sxtYHSQ"
      },
      "execution_count": null,
      "outputs": []
    },
    {
      "cell_type": "code",
      "source": [],
      "metadata": {
        "id": "Yu6TVIANYHp-"
      },
      "execution_count": null,
      "outputs": []
    }
  ]
}