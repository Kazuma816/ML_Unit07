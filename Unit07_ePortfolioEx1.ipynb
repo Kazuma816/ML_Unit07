{
  "nbformat": 4,
  "nbformat_minor": 0,
  "metadata": {
    "colab": {
      "provenance": []
    },
    "kernelspec": {
      "name": "python3",
      "display_name": "Python 3"
    },
    "language_info": {
      "name": "python"
    }
  },
  "cells": [
    {
      "cell_type": "code",
      "execution_count": 3,
      "metadata": {
        "id": "OdNQDuv6ICgd"
      },
      "outputs": [],
      "source": [
        "# Import library\n",
        "\n",
        "import numpy as np"
      ]
    },
    {
      "cell_type": "code",
      "source": [
        "inputs = np.array([45, 25])"
      ],
      "metadata": {
        "id": "ojSjrH-EIWSb"
      },
      "execution_count": 5,
      "outputs": []
    },
    {
      "cell_type": "code",
      "source": [
        "# Check the type of the inputs\n",
        "# numpy.ndarray\n",
        "\n",
        "type(inputs)"
      ],
      "metadata": {
        "colab": {
          "base_uri": "https://localhost:8080/"
        },
        "id": "buTuXbRRIZJy",
        "outputId": "45ac3ff2-6bd2-49c6-8c7f-b30602f45fe8"
      },
      "execution_count": 6,
      "outputs": [
        {
          "output_type": "execute_result",
          "data": {
            "text/plain": [
              "numpy.ndarray"
            ]
          },
          "metadata": {},
          "execution_count": 6
        }
      ]
    },
    {
      "cell_type": "code",
      "source": [
        "# check the value at index position 0\n",
        "# 45\n",
        "\n",
        "inputs[0]"
      ],
      "metadata": {
        "colab": {
          "base_uri": "https://localhost:8080/"
        },
        "id": "MzfeV9b1Ibzz",
        "outputId": "a62a1603-5551-4804-fb13-02a5d7de08f9"
      },
      "execution_count": 7,
      "outputs": [
        {
          "output_type": "execute_result",
          "data": {
            "text/plain": [
              "45"
            ]
          },
          "metadata": {},
          "execution_count": 7
        }
      ]
    },
    {
      "cell_type": "code",
      "source": [
        "# creating the weights as Numpy array\n",
        "\n",
        "weights = np.array([0.7, 0.1])"
      ],
      "metadata": {
        "id": "MqEGnEMRIgZB"
      },
      "execution_count": 8,
      "outputs": []
    },
    {
      "cell_type": "code",
      "source": [
        "# Check the value at index 0\n",
        "# 0.7\n",
        "\n",
        "weights[0]"
      ],
      "metadata": {
        "colab": {
          "base_uri": "https://localhost:8080/"
        },
        "id": "SzWB8p_GIiw1",
        "outputId": "4f8116c1-4d4b-4c22-d0bc-aa01cdac7d50"
      },
      "execution_count": 9,
      "outputs": [
        {
          "output_type": "execute_result",
          "data": {
            "text/plain": [
              "0.7"
            ]
          },
          "metadata": {},
          "execution_count": 9
        }
      ]
    },
    {
      "cell_type": "code",
      "source": [
        "# create the sum function\n",
        "\n",
        "def sum_func(inputs, weights):\n",
        "    return inputs.dot(weights)"
      ],
      "metadata": {
        "id": "wvyZNZaUIoyQ"
      },
      "execution_count": 10,
      "outputs": []
    },
    {
      "cell_type": "code",
      "source": [
        "# for weights = [0.7, 0.1]\n",
        "\n",
        "\n",
        "s_prob1 = sum_func(inputs, weights)\n",
        "s_prob1\n",
        "\n",
        "# 34.0"
      ],
      "metadata": {
        "colab": {
          "base_uri": "https://localhost:8080/"
        },
        "id": "q_IJlEuJIs98",
        "outputId": "49936257-d8e7-4cf9-a7fb-659a1f82bfa5"
      },
      "execution_count": 11,
      "outputs": [
        {
          "output_type": "execute_result",
          "data": {
            "text/plain": [
              "34.0"
            ]
          },
          "metadata": {},
          "execution_count": 11
        }
      ]
    },
    {
      "cell_type": "code",
      "source": [
        "# create step function\n",
        "\n",
        "def step_function(sum_func):\n",
        "  if (sum_func >= 1):\n",
        "    print(f'The Sum Function is greater than or equal to 1')\n",
        "    return 1\n",
        "  else:\n",
        "        print(f'The Sum Function is NOT greater')\n",
        "        return 0"
      ],
      "metadata": {
        "id": "iB3jqx7aIyod"
      },
      "execution_count": 12,
      "outputs": []
    },
    {
      "cell_type": "code",
      "source": [
        "# result\n",
        "\n",
        "step_function(s_prob1 )\n",
        "\n",
        "# 1"
      ],
      "metadata": {
        "colab": {
          "base_uri": "https://localhost:8080/"
        },
        "id": "speCvO2WI3at",
        "outputId": "0bbbad2b-78f1-4ceb-bd9d-5bcc112ddff9"
      },
      "execution_count": 13,
      "outputs": [
        {
          "output_type": "stream",
          "name": "stdout",
          "text": [
            "The Sum Function is greater than or equal to 1\n"
          ]
        },
        {
          "output_type": "execute_result",
          "data": {
            "text/plain": [
              "1"
            ]
          },
          "metadata": {},
          "execution_count": 13
        }
      ]
    },
    {
      "cell_type": "code",
      "source": [
        "# If the is weight = [-0.7, 0.1]\n",
        "\n",
        "weights = [-0.7, 0.1]"
      ],
      "metadata": {
        "id": "fIXrIgKswZu7"
      },
      "execution_count": 14,
      "outputs": []
    },
    {
      "cell_type": "code",
      "source": [
        "# for weights = [- 0.7, 0.1]\n",
        "\n",
        "s_prob2 = sum_func(inputs, weights)\n",
        "\n",
        "round(s_prob2, 2)  #round to 2 decimal places\n",
        "\n",
        "# -29.0"
      ],
      "metadata": {
        "colab": {
          "base_uri": "https://localhost:8080/"
        },
        "id": "P_NNGMA8xSff",
        "outputId": "628de277-df04-49ba-d5a3-77535c198ab4"
      },
      "execution_count": 15,
      "outputs": [
        {
          "output_type": "execute_result",
          "data": {
            "text/plain": [
              "-29.0"
            ]
          },
          "metadata": {},
          "execution_count": 15
        }
      ]
    },
    {
      "cell_type": "code",
      "source": [
        "# Result\n",
        "\n",
        "step_function(s_prob2 )\n",
        "\n",
        "# 0"
      ],
      "metadata": {
        "colab": {
          "base_uri": "https://localhost:8080/"
        },
        "id": "uRqwtilQxfjd",
        "outputId": "4a464b41-abe8-4aac-dc5c-ce2b4b44504f"
      },
      "execution_count": 16,
      "outputs": [
        {
          "output_type": "stream",
          "name": "stdout",
          "text": [
            "The Sum Function is NOT greater\n"
          ]
        },
        {
          "output_type": "execute_result",
          "data": {
            "text/plain": [
              "0"
            ]
          },
          "metadata": {},
          "execution_count": 16
        }
      ]
    },
    {
      "cell_type": "code",
      "source": [
        "# Change the input values and weights\n",
        "\n",
        "inputs = np.array([86, 13])\n",
        "\n",
        "weights = [-0.3, 0.5]"
      ],
      "metadata": {
        "id": "LJVVSDYZxnvJ"
      },
      "execution_count": 18,
      "outputs": []
    },
    {
      "cell_type": "code",
      "source": [
        "s_prob3 = sum_func(inputs, weights)\n",
        "s_prob3\n",
        "\n",
        "# -19.3"
      ],
      "metadata": {
        "colab": {
          "base_uri": "https://localhost:8080/"
        },
        "id": "B95sasYryBsD",
        "outputId": "b4283a61-04a4-4e13-98b0-712e97c15f81"
      },
      "execution_count": 19,
      "outputs": [
        {
          "output_type": "execute_result",
          "data": {
            "text/plain": [
              "-19.3"
            ]
          },
          "metadata": {},
          "execution_count": 19
        }
      ]
    }
  ]
}